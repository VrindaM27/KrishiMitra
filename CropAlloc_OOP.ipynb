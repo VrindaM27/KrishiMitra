{
 "cells": [
  {
   "cell_type": "code",
   "execution_count": 1,
   "id": "0330de8e",
   "metadata": {},
   "outputs": [],
   "source": [
    "import pandas as pd\n",
    "import sys\n",
    "INT_MAX = sys.maxsize"
   ]
  },
  {
   "cell_type": "code",
   "execution_count": 11,
   "id": "64d28fa6",
   "metadata": {},
   "outputs": [],
   "source": [
    "class crop_ini:\n",
    "    cost_matrix = []\n",
    "    no=0\n",
    "    maxi=0\n",
    "    crop_names = []\n",
    "    state_names = []\n",
    "    \n",
    "    def __init__(self,n):\n",
    "        self.no=n\n",
    "    \n",
    "    def crop_input(self):\n",
    "            data = pd.read_csv(\"Agri.csv\")\n",
    "            print(\"Enter Choice:\")\n",
    "            print(\"1. Crop Profit Maximization \\n 2. Land Usage Minimization\")\n",
    "            ch=int(input())\n",
    "            print()\n",
    "            \n",
    "            for i in range(self.no):\n",
    "                        crop_name= str(input(\"Enter Crop Name: \"))\n",
    "                        self.crop_names.append(crop_name)\n",
    "            for i in range(0,self.no):\n",
    "                        state_name = str(input(\"Enter State Name: \"))\n",
    "                        self.state_names.append(state_name)\n",
    "            \n",
    "            if ch==1:\n",
    "\n",
    "                    for crop_name in self.crop_names:\n",
    "                        all_states = list(pd.DataFrame(data[data[\"Crop\"]==crop_name][\"State\"])[\"State\"].unique())\n",
    "                        state_profit = []\n",
    "                        for state in self.state_names: \n",
    "                            if state in all_states:\n",
    "                                profit = data[(data[\"Crop\"]==crop_name) & (data[\"State\"]==state) ][\"Profit\"].item()\n",
    "                                state_profit.append(profit)\n",
    "                            else:\n",
    "                                state_profit.append(0)\n",
    "                        self.cost_matrix.append(state_profit)\n",
    "            self.cost_matrix_mini()\n",
    "            \n",
    "            ##else if ch==2:\n",
    "                ##\n",
    "                 \n",
    "    \n",
    "    \n",
    "    def supported_crop_states_price(self):\n",
    "        data=pd.read_csv(\"Agri.csv\")\n",
    "        df=pd.DataFrame(data,columns=['Crop','State','Profit'])\n",
    "        lst_crop=[]\n",
    "        lst_state=[]\n",
    "        \n",
    "        lst_crop=set(df['Crop'])\n",
    "        lst_state=set(df['State'])\n",
    "\n",
    "        print(lst_crop)\n",
    "        print('\\n')\n",
    "        print(lst_state)\n",
    "        \n",
    "    \n",
    "    def cost_matrix_mini(self):\n",
    "        for i in range(self.no):\n",
    "            for j in range(self.no):\n",
    "                self.maxi=max(self.maxi,self.cost_matrix[i][j])\n",
    "        for i in range(self.no):\n",
    "            for j in range(self.no):\n",
    "                self.cost_matrix[i][j]=round(self.maxi- self.cost_matrix[i][j],2)\n",
    "        \n",
    "    \n",
    "    def display_cost_matrix(self):\n",
    "        print(self.cost_matrix)\n",
    "            \n",
    "        \n",
    "        "
   ]
  },
  {
   "cell_type": "code",
   "execution_count": 12,
   "id": "999d15eb",
   "metadata": {},
   "outputs": [],
   "source": [
    "obj=crop_ini(4)"
   ]
  },
  {
   "cell_type": "code",
   "execution_count": 13,
   "id": "edc6f431",
   "metadata": {},
   "outputs": [
    {
     "name": "stdout",
     "output_type": "stream",
     "text": [
      "{'Moong', 'Cotton', 'Maize', 'Beans', 'Millets', 'Arhar', 'Mustard Oil', 'Sesamum', 'Bengal Gram', 'Paddy', 'Soyabean', 'Jute', 'Barley', 'Wheat', 'Groundnut', 'Ragi', 'Urad', 'Bajra', 'Rice', 'Jowar', 'Masur', 'Mustard'}\n",
      "\n",
      "\n",
      "{'Maharashtra', 'Chhatisgarh', 'Tamil Nadu', 'Manipur', 'Rajasthan', 'Uttar Pradesh', 'Bihar', 'Telangana', 'Odisha', 'Madhya Pradesh', 'Gujarat', 'Uttarakhand', 'Andhra Pradesh', 'Pudducherry', 'Kerala', 'Haryana', 'Punjab', 'Delhi', 'Tripura', 'Karnataka', 'Nagaland', 'West Bengal'}\n"
     ]
    }
   ],
   "source": [
    "obj.supported_crop_states_price()"
   ]
  },
  {
   "cell_type": "code",
   "execution_count": 14,
   "id": "fd6cce4a",
   "metadata": {},
   "outputs": [
    {
     "name": "stdout",
     "output_type": "stream",
     "text": [
      "Enter Choice:\n",
      "1. Crop Profit Maximization \n",
      " 2. Land Usage Minimization\n",
      "1\n",
      "\n",
      "Enter Crop Name: Moong\n",
      "Enter Crop Name: Arhar\n",
      "Enter Crop Name: Paddy\n",
      "Enter Crop Name: Rice\n",
      "Enter State Name: Maharashtra\n",
      "Enter State Name: Gujarat\n",
      "Enter State Name: Uttar Pradesh\n",
      "Enter State Name: Andhra Pradesh\n"
     ]
    }
   ],
   "source": [
    "obj.crop_input()"
   ]
  },
  {
   "cell_type": "code",
   "execution_count": 15,
   "id": "ff8d68bc",
   "metadata": {},
   "outputs": [
    {
     "name": "stdout",
     "output_type": "stream",
     "text": [
      "[[11.65, 13.4, 10.65, 13.4], [10.4, 7.4, 13.0, 7.15], [12.93, 9.53, 13.4, 13.0], [0.8, 13.4, 8.38, 0.0]]\n"
     ]
    }
   ],
   "source": [
    "obj.display_cost_matrix()"
   ]
  },
  {
   "cell_type": "code",
   "execution_count": 16,
   "id": "4b381692",
   "metadata": {},
   "outputs": [],
   "source": [
    "class reduction(crop_ini):\n",
    "    mini=[]\n",
    "    mini_col=[]\n",
    "    \n",
    "    def __init__(self):\n",
    "        crop_ini.__init__(self,4)\n",
    "        \n",
    "    def row_reduce(self):\n",
    "        for i in range(self.no):\n",
    "            self.mini.append(min(self.cost_matrix[i]))\n",
    "    \n",
    "    def display_reduce_row(self):\n",
    "        print(self.mini)\n",
    "    \n",
    "    def subtract_min_row(self):\n",
    "        for i in range(self.no):\n",
    "            sub=self.mini[i]\n",
    "            self.cost_matrix[i][:]=[round(x-sub, 2) for x in self.cost_matrix[i]]\n",
    "    \n",
    "    def col_reduce(self):\n",
    "        mini_c=[]\n",
    "        for i in range(self.no):\n",
    "            mini_c.clear()\n",
    "            temp=INT_MAX\n",
    "            for j in range(self.no):\n",
    "                temp=min(temp,self.cost_matrix[j][i])\n",
    "                mini_c.append(temp)\n",
    "            self.mini_col.append(min(mini_c))\n",
    "            \n",
    "    def subtract_min_col(self):\n",
    "        for i in range(4):\n",
    "            sub=self.mini_col[i]\n",
    "            for j in range(self.no):\n",
    "                self.cost_matrix[j][i]= round(self.cost_matrix[j][i]-sub,2)\n",
    "            \n",
    "     \n",
    "    \n",
    "    def display_reduce_col(self):\n",
    "        print(self.mini_col)\n",
    "            \n",
    "   \n",
    "            \n",
    "        "
   ]
  },
  {
   "cell_type": "code",
   "execution_count": 17,
   "id": "1d9b2d0f",
   "metadata": {},
   "outputs": [],
   "source": [
    "obj1=reduction()"
   ]
  },
  {
   "cell_type": "code",
   "execution_count": 18,
   "id": "3bb271d5",
   "metadata": {},
   "outputs": [],
   "source": [
    "obj1.row_reduce()"
   ]
  },
  {
   "cell_type": "code",
   "execution_count": 19,
   "id": "c93b3f51",
   "metadata": {},
   "outputs": [
    {
     "name": "stdout",
     "output_type": "stream",
     "text": [
      "[10.65, 7.15, 9.53, 0.0]\n"
     ]
    }
   ],
   "source": [
    "obj1.display_reduce_row()"
   ]
  },
  {
   "cell_type": "code",
   "execution_count": 20,
   "id": "1094e549",
   "metadata": {},
   "outputs": [],
   "source": [
    "obj1.subtract_min_row()"
   ]
  },
  {
   "cell_type": "code",
   "execution_count": 21,
   "id": "46bbdf20",
   "metadata": {},
   "outputs": [
    {
     "data": {
      "text/plain": [
       "[[1.0, 2.75, 0.0, 2.75],\n",
       " [3.25, 0.25, 5.85, 0.0],\n",
       " [3.4, 0.0, 3.87, 3.47],\n",
       " [0.8, 13.4, 8.38, 0.0]]"
      ]
     },
     "execution_count": 21,
     "metadata": {},
     "output_type": "execute_result"
    }
   ],
   "source": [
    "obj1.cost_matrix"
   ]
  },
  {
   "cell_type": "code",
   "execution_count": 22,
   "id": "0b0db109",
   "metadata": {},
   "outputs": [],
   "source": [
    "obj1.col_reduce()"
   ]
  },
  {
   "cell_type": "code",
   "execution_count": 23,
   "id": "d11ef302",
   "metadata": {},
   "outputs": [
    {
     "name": "stdout",
     "output_type": "stream",
     "text": [
      "[0.8, 0.0, 0.0, 0.0]\n"
     ]
    }
   ],
   "source": [
    "obj1.display_reduce_col()"
   ]
  },
  {
   "cell_type": "code",
   "execution_count": 24,
   "id": "cd7bf080",
   "metadata": {},
   "outputs": [],
   "source": [
    "obj1.subtract_min_col()"
   ]
  },
  {
   "cell_type": "code",
   "execution_count": 25,
   "id": "b03536c8",
   "metadata": {},
   "outputs": [
    {
     "data": {
      "text/plain": [
       "[[0.2, 2.75, 0.0, 2.75],\n",
       " [2.45, 0.25, 5.85, 0.0],\n",
       " [2.6, 0.0, 3.87, 3.47],\n",
       " [0.0, 13.4, 8.38, 0.0]]"
      ]
     },
     "execution_count": 25,
     "metadata": {},
     "output_type": "execute_result"
    }
   ],
   "source": [
    "obj1.cost_matrix"
   ]
  },
  {
   "cell_type": "code",
   "execution_count": 26,
   "id": "bbac0237",
   "metadata": {},
   "outputs": [],
   "source": [
    "class allocate(reduction):\n",
    "    actual_lines=[]\n",
    "    \n",
    "    def __init__(self):\n",
    "        reduction.__init__(self)\n",
    "   \n",
    "    def lines(self):\n",
    "        for i in range(self.no):\n",
    "            if 0 not in self.cost_matrix[i]:\n",
    "                continue;\n",
    "            else:\n",
    "                temp_lines=[]\n",
    "                #temp_lines.append(i);\n",
    "                for j in range(self.no):\n",
    "                    for k in range(self.no):\n",
    "                        if k==i:\n",
    "                            continue;\n",
    "                        elif self.cost_matrix[k][j]==0:\n",
    "                            temp_lines.append(k);\n",
    "                        else:\n",
    "                            continue;\n",
    "                if len(self.actual_lines) == 0:\n",
    "                    self.actual_lines=temp_lines;\n",
    "                elif len(self.actual_lines) > len(temp_lines):\n",
    "                    self.actual_lines=temp_lines\n",
    "                else:\n",
    "                    continue;\n",
    "        self.check_optimal()\n",
    "    \n",
    "    def check_optimal(self):\n",
    "        if len(self.actual_lines)==self.no:\n",
    "            print(\"Optimal Solution Exists\")\n",
    "        else:\n",
    "            print(\"No Optimal Solution\")\n",
    "            self.modify_mat()\n",
    "    \n",
    "    def modify_mat(self):\n",
    "        min_overall=INT_MAX\n",
    "        for i in range(self.no):\n",
    "            if i==self.actual_lines[0]:\n",
    "                continue\n",
    "            else:\n",
    "                for j in range(self.no):\n",
    "                    if j not in self.actual_lines[1:]:\n",
    "                        min_overall=min(min_overall,self.cost_matrix[i][j])\n",
    "        for i in range(self.no):\n",
    "            for j in range(self.no):\n",
    "                if j in self.actual_lines[1:] and i==self.actual_lines[0]:\n",
    "                    self.cost_matrix[i][j]= self.cost_matrix[i][j]+min_overall\n",
    "                elif j not in self.actual_lines[1:] and i!=self.actual_lines[0]:\n",
    "                    self.cost_matrix[i][j]= self.cost_matrix[i][j]-min_overall\n",
    "        \n",
    "      \n",
    "    def find_ind(self,i):\n",
    "        for j in range(self.no):\n",
    "            if self.cost_matrix[i][j]==0:\n",
    "                return j;\n",
    "        return -1\n",
    "    \n",
    "    def crop_allocation(self):\n",
    "        allocation_idx=[]\n",
    "        row_num=[]\n",
    "        for i in range(self.no):\n",
    "            if self.cost_matrix[i].count(0)==1:\n",
    "                idx = self.find_ind(i)\n",
    "                row_num.append(i)\n",
    "                allocation_idx.append(idx)\n",
    "            else:\n",
    "                continue;\n",
    "                \n",
    "        if (len(allocation_idx)!=self.no):\n",
    "            for i in range(self.no):\n",
    "                if i not in row_num:\n",
    "                    for j in range(self.no):\n",
    "                        if(self.cost_matrix[i][j]==0 and j not in allocation_idx):\n",
    "                            row_num.append(i)\n",
    "                            allocation_idx.append(j)\n",
    "      \n",
    "            for i in range(self.no):\n",
    "                state_alloc_index = row_num[i]\n",
    "                final_state = self.state_names[state_alloc_index]\n",
    "                crop_alloc_index = allocation_idx[i]\n",
    "                final_crop = self.crop_names[crop_alloc_index]\n",
    "                print(f\" {final_state} -------> {final_crop}\")  \n",
    "    \n",
    "      \n",
    "        \n",
    "    "
   ]
  },
  {
   "cell_type": "code",
   "execution_count": 27,
   "id": "d3b248f7",
   "metadata": {},
   "outputs": [],
   "source": [
    "obj1=allocate()"
   ]
  },
  {
   "cell_type": "code",
   "execution_count": 28,
   "id": "fdf57cc9",
   "metadata": {},
   "outputs": [
    {
     "name": "stdout",
     "output_type": "stream",
     "text": [
      "No Optimal Solution\n"
     ]
    }
   ],
   "source": [
    "obj1.lines()"
   ]
  },
  {
   "cell_type": "code",
   "execution_count": 29,
   "id": "3a4588db",
   "metadata": {},
   "outputs": [
    {
     "name": "stdout",
     "output_type": "stream",
     "text": [
      " Maharashtra -------> Paddy\n",
      " Gujarat -------> Rice\n",
      " Uttar Pradesh -------> Arhar\n",
      " Andhra Pradesh -------> Moong\n"
     ]
    }
   ],
   "source": [
    "obj1.crop_allocation()"
   ]
  },
  {
   "cell_type": "code",
   "execution_count": null,
   "id": "9d94315f",
   "metadata": {},
   "outputs": [],
   "source": []
  }
 ],
 "metadata": {
  "kernelspec": {
   "display_name": "Python 3",
   "language": "python",
   "name": "python3"
  },
  "language_info": {
   "codemirror_mode": {
    "name": "ipython",
    "version": 3
   },
   "file_extension": ".py",
   "mimetype": "text/x-python",
   "name": "python",
   "nbconvert_exporter": "python",
   "pygments_lexer": "ipython3",
   "version": "3.8.8"
  }
 },
 "nbformat": 4,
 "nbformat_minor": 5
}
