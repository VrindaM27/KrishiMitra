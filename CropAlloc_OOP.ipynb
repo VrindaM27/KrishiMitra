{
 "cells": [
  {
   "cell_type": "code",
   "execution_count": 216,
   "id": "0330de8e",
   "metadata": {},
   "outputs": [],
   "source": [
    "import pandas as pd\n",
    "import sys\n",
    "INT_MAX = sys.maxsize"
   ]
  },
  {
   "cell_type": "code",
   "execution_count": 217,
   "id": "94aad7de",
   "metadata": {},
   "outputs": [],
   "source": [
    "class crop_ini:\n",
    "    cost_matrix = []\n",
    "    no=0\n",
    "    \n",
    "    def __init__(self,n):\n",
    "        self.no=n\n",
    "        \n",
    "    def crop_input(self):\n",
    "        data = pd.read_csv(\"Agri.csv\")\n",
    "        crop_names = []\n",
    "        state_names = []\n",
    "        for i in range(0,self.no):\n",
    "            crop_name= str(input(\"Enter Crop Name: \"))\n",
    "            crop_names.append(crop_name)\n",
    "        for i in range(0,self.no):\n",
    "            state_name = str(input(\"Enter State Name: \"))\n",
    "            state_names.append(state_name)\n",
    "        for crop_name in crop_names:\n",
    "            all_states = list(pd.DataFrame(data[data[\"Crop\"]==crop_name][\"State\"])[\"State\"].unique())\n",
    "            state_profit = []\n",
    "            for state in state_names: \n",
    "                    if state in all_states:\n",
    "                        profit = data[(data[\"Crop\"]==crop_name) & (data[\"State\"]==state) ][\"Profit\"].item()\n",
    "                        state_profit.append(profit)\n",
    "                    else:\n",
    "                        state_profit.append(0)\n",
    "            self.cost_matrix.append(state_profit)\n",
    "        \n",
    "    def supported_crop_states(self):\n",
    "        data=pd.read_csv(\"Agri.csv\")\n",
    "        df=pd.DataFrame(data,columns=['Crop','State','Profit'])\n",
    "        lst_crop=[]\n",
    "        lst_state=[]\n",
    "        \n",
    "        lst_crop=set(df['Crop'])\n",
    "        lst_state=set(df['State'])\n",
    "\n",
    "        print(lst_crop)\n",
    "        print('\\n')\n",
    "        print(lst_state)\n",
    "    \n",
    "    def display_cost_matrix(self):\n",
    "        print(self.cost_matrix)\n",
    "        "
   ]
  },
  {
   "cell_type": "code",
   "execution_count": 218,
   "id": "999d15eb",
   "metadata": {},
   "outputs": [],
   "source": [
    "obj=crop_ini(4)"
   ]
  },
  {
   "cell_type": "code",
   "execution_count": 219,
   "id": "edc6f431",
   "metadata": {},
   "outputs": [
    {
     "name": "stdout",
     "output_type": "stream",
     "text": [
      "{'Barley', 'Moong', 'Soyabean', 'Beans', 'Urad', 'Rice', 'Arhar', 'Mustard', 'Bengal Gram', 'Cotton', 'Mustard Oil', 'Jowar', 'Jute', 'Paddy', 'Groundnut', 'Ragi', 'Maize', 'Bajra', 'Masur', 'Millets', 'Wheat', 'Sesamum'}\n",
      "\n",
      "\n",
      "{'Rajasthan', 'Kerala', 'Manipur', 'Pudducherry', 'West Bengal', 'Punjab', 'Gujarat', 'Odisha', 'Maharashtra', 'Madhya Pradesh', 'Tamil Nadu', 'Tripura', 'Haryana', 'Uttarakhand', 'Delhi', 'Uttar Pradesh', 'Andhra Pradesh', 'Chhatisgarh', 'Nagaland', 'Bihar', 'Karnataka', 'Telangana'}\n"
     ]
    }
   ],
   "source": [
    "obj.supported_crop_states()"
   ]
  },
  {
   "cell_type": "code",
   "execution_count": 220,
   "id": "fd6cce4a",
   "metadata": {},
   "outputs": [
    {
     "name": "stdout",
     "output_type": "stream",
     "text": [
      "Enter Crop Name: Bajra\n",
      "Enter Crop Name: Maize\n",
      "Enter Crop Name: Rice\n",
      "Enter Crop Name: Jowar\n",
      "Enter State Name: Haryana\n",
      "Enter State Name: Madhya Pradesh\n",
      "Enter State Name: Uttar Pradesh\n",
      "Enter State Name: Gujarat\n"
     ]
    }
   ],
   "source": [
    "obj.crop_input()"
   ]
  },
  {
   "cell_type": "code",
   "execution_count": 221,
   "id": "ff8d68bc",
   "metadata": {},
   "outputs": [
    {
     "name": "stdout",
     "output_type": "stream",
     "text": [
      "[[0, 4.44, 5.03, 1.75], [0, 0.7, 0.7, 0.7], [0, 0, 5.02, 0], [0, 0, 3.03, 5.88]]\n"
     ]
    }
   ],
   "source": [
    "obj.display_cost_matrix()"
   ]
  },
  {
   "cell_type": "code",
   "execution_count": 222,
   "id": "4b381692",
   "metadata": {},
   "outputs": [],
   "source": [
    "class reduction(crop_ini):\n",
    "    mini=[]\n",
    "    mini_col=[]\n",
    "    \n",
    "    def __init__(self):\n",
    "        crop_ini.__init__(self,4)\n",
    "        \n",
    "    def row_reduce(self):\n",
    "        for i in range(self.no):\n",
    "            self.mini.append(min(self.cost_matrix[i]))\n",
    "    \n",
    "    def display_reduce_row(self):\n",
    "        print(self.mini)\n",
    "    \n",
    "    def subtract_min_row(self):\n",
    "        for i in range(self.no):\n",
    "            sub=self.mini[i]\n",
    "            self.cost_matrix[i][:]=[round(x-sub, 2) for x in self.cost_matrix[i]]\n",
    "    \n",
    "    def col_reduce(self):\n",
    "        mini_c=[]\n",
    "        for i in range(self.no):\n",
    "            mini_c.clear()\n",
    "            temp=INT_MAX\n",
    "            for j in range(self.no):\n",
    "                temp=min(temp,self.cost_matrix[j][i])\n",
    "                mini_c.append(temp)\n",
    "            self.mini_col.append(min(mini_c))\n",
    "            \n",
    "    def subtract_min_col(self):\n",
    "        for i in range(4):\n",
    "            sub=self.mini_col[i]\n",
    "            for j in range(self.no):\n",
    "                self.cost_matrix[j][i]= round(self.cost_matrix[j][i]-sub,2)\n",
    "        \n",
    "    def display_reduce_col(self):\n",
    "        print(self.mini_col)\n",
    "            \n",
    "   \n",
    "            \n",
    "        "
   ]
  },
  {
   "cell_type": "code",
   "execution_count": 223,
   "id": "1d9b2d0f",
   "metadata": {},
   "outputs": [],
   "source": [
    "obj1=reduction()"
   ]
  },
  {
   "cell_type": "code",
   "execution_count": 224,
   "id": "3bb271d5",
   "metadata": {},
   "outputs": [],
   "source": [
    "obj1.row_reduce()"
   ]
  },
  {
   "cell_type": "code",
   "execution_count": 225,
   "id": "c93b3f51",
   "metadata": {},
   "outputs": [
    {
     "name": "stdout",
     "output_type": "stream",
     "text": [
      "[0, 0, 0, 0]\n"
     ]
    }
   ],
   "source": [
    "obj1.display_reduce_row()"
   ]
  },
  {
   "cell_type": "code",
   "execution_count": 226,
   "id": "1094e549",
   "metadata": {},
   "outputs": [],
   "source": [
    "obj1.subtract_min_row()"
   ]
  },
  {
   "cell_type": "code",
   "execution_count": 227,
   "id": "46bbdf20",
   "metadata": {},
   "outputs": [
    {
     "data": {
      "text/plain": [
       "[[0, 4.44, 5.03, 1.75],\n",
       " [0, 0.7, 0.7, 0.7],\n",
       " [0, 0, 5.02, 0],\n",
       " [0, 0, 3.03, 5.88]]"
      ]
     },
     "execution_count": 227,
     "metadata": {},
     "output_type": "execute_result"
    }
   ],
   "source": [
    "obj1.cost_matrix"
   ]
  },
  {
   "cell_type": "code",
   "execution_count": 228,
   "id": "0b0db109",
   "metadata": {},
   "outputs": [],
   "source": [
    "obj1.col_reduce()"
   ]
  },
  {
   "cell_type": "code",
   "execution_count": 229,
   "id": "d11ef302",
   "metadata": {},
   "outputs": [
    {
     "name": "stdout",
     "output_type": "stream",
     "text": [
      "[0, 0, 0.7, 0]\n"
     ]
    }
   ],
   "source": [
    "obj1.display_reduce_col()"
   ]
  },
  {
   "cell_type": "code",
   "execution_count": 230,
   "id": "cd7bf080",
   "metadata": {},
   "outputs": [],
   "source": [
    "obj1.subtract_min_col()"
   ]
  },
  {
   "cell_type": "code",
   "execution_count": 231,
   "id": "b03536c8",
   "metadata": {},
   "outputs": [
    {
     "data": {
      "text/plain": [
       "[[0, 4.44, 4.33, 1.75],\n",
       " [0, 0.7, 0.0, 0.7],\n",
       " [0, 0, 4.32, 0],\n",
       " [0, 0, 2.33, 5.88]]"
      ]
     },
     "execution_count": 231,
     "metadata": {},
     "output_type": "execute_result"
    }
   ],
   "source": [
    "obj1.cost_matrix"
   ]
  },
  {
   "cell_type": "code",
   "execution_count": 236,
   "id": "bbac0237",
   "metadata": {},
   "outputs": [],
   "source": [
    "class allocate(reduction):\n",
    "    actual_lines=[]\n",
    "    \n",
    "    def __init__(self):\n",
    "        reduction.__init__(self)\n",
    "   \n",
    "    def lines(self):\n",
    "        for i in range(self.no):\n",
    "            if 0 not in self.cost_matrix[i]:\n",
    "                continue;\n",
    "            else:\n",
    "                temp_lines=[]\n",
    "                temp_lines.append(i);\n",
    "                for j in range(self.no):\n",
    "                    for k in range(self.no):\n",
    "                        if k==i:\n",
    "                            continue;\n",
    "                        elif self.cost_matrix[k][j]==0:\n",
    "                            temp_lines.append(k);\n",
    "                        else:\n",
    "                            continue;\n",
    "                if len(self.actual_lines) == 0:\n",
    "                    self.actual_lines=temp_lines;\n",
    "                elif len(self.actual_lines) > len(temp_lines):\n",
    "                    self.actual_lines=temp_lines;\n",
    "                else:\n",
    "                    continue;\n",
    "    "
   ]
  },
  {
   "cell_type": "code",
   "execution_count": 237,
   "id": "d3b248f7",
   "metadata": {},
   "outputs": [],
   "source": [
    "obj1=allocate()"
   ]
  },
  {
   "cell_type": "code",
   "execution_count": 238,
   "id": "cc52edc4",
   "metadata": {},
   "outputs": [],
   "source": [
    "obj1.lines()"
   ]
  },
  {
   "cell_type": "code",
   "execution_count": 239,
   "id": "f79f48b2",
   "metadata": {},
   "outputs": [
    {
     "data": {
      "text/plain": [
       "[2, 0, 1, 3, 3, 1]"
      ]
     },
     "execution_count": 239,
     "metadata": {},
     "output_type": "execute_result"
    }
   ],
   "source": [
    "obj1.actual_lines"
   ]
  }
 ],
 "metadata": {
  "kernelspec": {
   "display_name": "Python 3",
   "language": "python",
   "name": "python3"
  },
  "language_info": {
   "codemirror_mode": {
    "name": "ipython",
    "version": 3
   },
   "file_extension": ".py",
   "mimetype": "text/x-python",
   "name": "python",
   "nbconvert_exporter": "python",
   "pygments_lexer": "ipython3",
   "version": "3.8.8"
  }
 },
 "nbformat": 4,
 "nbformat_minor": 5
}
