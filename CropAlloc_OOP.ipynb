{
 "cells": [
  {
   "cell_type": "code",
   "execution_count": 13,
   "id": "0330de8e",
   "metadata": {},
   "outputs": [],
   "source": [
    "import pandas as pd\n",
    "import sys\n",
    "INT_MAX = sys.maxsize"
   ]
  },
  {
   "cell_type": "code",
   "execution_count": 2,
   "id": "94aad7de",
   "metadata": {},
   "outputs": [],
   "source": [
    "class crop_ini:\n",
    "    cost_matrix = []\n",
    "    no=0\n",
    "    \n",
    "    def __init__(self,n):\n",
    "        self.no=n\n",
    "        \n",
    "    def crop_input(self):\n",
    "        data = pd.read_csv(\"Agri.csv\")\n",
    "        crop_names = []\n",
    "        state_names = []\n",
    "        for i in range(0,self.no):\n",
    "            crop_name= str(input(\"Enter Crop Name: \"))\n",
    "            crop_names.append(crop_name)\n",
    "        for i in range(0,self.no):\n",
    "            state_name = str(input(\"Enter State Name: \"))\n",
    "            state_names.append(state_name)\n",
    "        for crop_name in crop_names:\n",
    "            all_states = list(pd.DataFrame(data[data[\"Crop\"]==crop_name][\"State\"])[\"State\"].unique())\n",
    "            state_profit = []\n",
    "            for state in state_names: \n",
    "                    if state in all_states:\n",
    "                        profit = data[(data[\"Crop\"]==crop_name) & (data[\"State\"]==state) ][\"Profit\"].item()\n",
    "                        state_profit.append(profit)\n",
    "                    else:\n",
    "                        state_profit.append(0)\n",
    "            self.cost_matrix.append(state_profit)\n",
    "        \n",
    "    def supported_crop_states(self):\n",
    "        data=pd.read_csv(\"Agri.csv\")\n",
    "        df=pd.DataFrame(data,columns=['Crop','State','Profit'])\n",
    "        lst_crop=[]\n",
    "        lst_state=[]\n",
    "        \n",
    "        lst_crop=set(df['Crop'])\n",
    "        lst_state=set(df['State'])\n",
    "\n",
    "        print(lst_crop)\n",
    "        print('\\n')\n",
    "        print(lst_state)\n",
    "    \n",
    "    def display_cost_matrix(self):\n",
    "        print(self.cost_matrix)\n",
    "        "
   ]
  },
  {
   "cell_type": "code",
   "execution_count": 3,
   "id": "999d15eb",
   "metadata": {},
   "outputs": [],
   "source": [
    "obj=crop_ini(4)"
   ]
  },
  {
   "cell_type": "code",
   "execution_count": 4,
   "id": "edc6f431",
   "metadata": {},
   "outputs": [
    {
     "name": "stdout",
     "output_type": "stream",
     "text": [
      "{'Rice', 'Paddy', 'Sesamum', 'Mustard', 'Millets', 'Jute', 'Moong', 'Soyabean', 'Bajra', 'Bengal Gram', 'Cotton', 'Barley', 'Ragi', 'Mustard Oil', 'Arhar', 'Jowar', 'Groundnut', 'Wheat', 'Beans', 'Masur', 'Maize', 'Urad'}\n",
      "\n",
      "\n",
      "{'Uttar Pradesh', 'West Bengal', 'Tamil Nadu', 'Manipur', 'Pudducherry', 'Madhya Pradesh', 'Odisha', 'Punjab', 'Kerala', 'Bihar', 'Nagaland', 'Delhi', 'Tripura', 'Gujarat', 'Uttarakhand', 'Telangana', 'Rajasthan', 'Karnataka', 'Chhatisgarh', 'Haryana', 'Maharashtra', 'Andhra Pradesh'}\n"
     ]
    }
   ],
   "source": [
    "obj.supported_crop_states()"
   ]
  },
  {
   "cell_type": "code",
   "execution_count": 5,
   "id": "fd6cce4a",
   "metadata": {},
   "outputs": [
    {
     "name": "stdout",
     "output_type": "stream",
     "text": [
      "Enter Crop Name: Wheat\n",
      "Enter Crop Name: Rice\n",
      "Enter Crop Name: Maize\n",
      "Enter Crop Name: Bajra\n",
      "Enter State Name: Uttar Pradesh\n",
      "Enter State Name: Gujarat\n",
      "Enter State Name: Haryana\n",
      "Enter State Name: Madhya Pradesh\n"
     ]
    }
   ],
   "source": [
    "obj.crop_input()"
   ]
  },
  {
   "cell_type": "code",
   "execution_count": 6,
   "id": "ff8d68bc",
   "metadata": {},
   "outputs": [
    {
     "name": "stdout",
     "output_type": "stream",
     "text": [
      "[[0.4, 1.15, 0, 0.95], [5.02, 0, 0, 0], [0.7, 0.7, 0, 0.7], [5.03, 1.75, 0, 4.44]]\n"
     ]
    }
   ],
   "source": [
    "obj.display_cost_matrix()"
   ]
  },
  {
   "cell_type": "code",
   "execution_count": 135,
   "id": "4b381692",
   "metadata": {},
   "outputs": [],
   "source": [
    "class reduction(crop_ini):\n",
    "    mini=[]\n",
    "    mini_col=[]\n",
    "    \n",
    "    def __init__(self):\n",
    "        crop_ini.__init__(self,4)\n",
    "        \n",
    "    def row_reduce(self):\n",
    "        for i in range(self.no):\n",
    "            self.mini.append(min(self.cost_matrix[i]))\n",
    "    \n",
    "    def display_reduce_row(self):\n",
    "        print(self.mini)\n",
    "    \n",
    "    def subtract_min_row(self):\n",
    "        for i in range(self.no):\n",
    "            sub=self.mini[i]\n",
    "            self.cost_matrix[i][:]=[x-sub for x in self.cost_matrix[i]]\n",
    "    \n",
    "    def col_reduce(self):\n",
    "        mini_c=[]\n",
    "        for i in range(self.no):\n",
    "            mini_c.clear()\n",
    "            temp=INT_MAX\n",
    "            for j in range(self.no):\n",
    "                temp=min(temp,self.cost_matrix[j][i])\n",
    "                mini_c.append(temp)\n",
    "        self.mini_col.append(min(mini_c))\n",
    "        \n",
    "    def display_reduce_col(self):\n",
    "        print(self.mini_col)\n",
    "            \n",
    "   \n",
    "            \n",
    "        "
   ]
  },
  {
   "cell_type": "code",
   "execution_count": 136,
   "id": "1d9b2d0f",
   "metadata": {},
   "outputs": [],
   "source": [
    "obj1=reduction()"
   ]
  },
  {
   "cell_type": "code",
   "execution_count": 137,
   "id": "7ecfba74",
   "metadata": {},
   "outputs": [],
   "source": [
    "obj1.col_reduce()"
   ]
  },
  {
   "cell_type": "code",
   "execution_count": 138,
   "id": "6fdc0c8f",
   "metadata": {},
   "outputs": [
    {
     "name": "stdout",
     "output_type": "stream",
     "text": [
      "[0]\n"
     ]
    }
   ],
   "source": [
    "obj1.display_reduce_col()"
   ]
  },
  {
   "cell_type": "code",
   "execution_count": null,
   "id": "66fef900",
   "metadata": {},
   "outputs": [],
   "source": []
  }
 ],
 "metadata": {
  "kernelspec": {
   "display_name": "Python 3",
   "language": "python",
   "name": "python3"
  },
  "language_info": {
   "codemirror_mode": {
    "name": "ipython",
    "version": 3
   },
   "file_extension": ".py",
   "mimetype": "text/x-python",
   "name": "python",
   "nbconvert_exporter": "python",
   "pygments_lexer": "ipython3",
   "version": "3.8.8"
  }
 },
 "nbformat": 4,
 "nbformat_minor": 5
}
